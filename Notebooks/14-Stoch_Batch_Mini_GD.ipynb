{
  "cells": [
    {
      "cell_type": "markdown",
      "metadata": {
        "id": "dTJwWmYn3niC"
      },
      "source": [
        "[Vidéo 14](https://www.youtube.com/watch?v=IU5fuoYBTAM&list=PLeo1K3hjS3uu7CxAacxVndI4bE_o3BDtO&index=14)"
      ]
    },
    {
      "cell_type": "code",
      "execution_count": 25,
      "metadata": {
        "id": "5SK-8J-M3ki2"
      },
      "outputs": [],
      "source": [
        "import pandas as pd\n",
        "import numpy as np\n",
        "import matplotlib.pyplot as plt\n",
        "%matplotlib inline\n",
        "from sklearn import preprocessing\n",
        "import random"
      ]
    },
    {
      "cell_type": "code",
      "execution_count": 10,
      "metadata": {},
      "outputs": [
        {
          "data": {
            "text/html": [
              "<div>\n",
              "<style scoped>\n",
              "    .dataframe tbody tr th:only-of-type {\n",
              "        vertical-align: middle;\n",
              "    }\n",
              "\n",
              "    .dataframe tbody tr th {\n",
              "        vertical-align: top;\n",
              "    }\n",
              "\n",
              "    .dataframe thead th {\n",
              "        text-align: right;\n",
              "    }\n",
              "</style>\n",
              "<table border=\"1\" class=\"dataframe\">\n",
              "  <thead>\n",
              "    <tr style=\"text-align: right;\">\n",
              "      <th></th>\n",
              "      <th>area</th>\n",
              "      <th>bedrooms</th>\n",
              "      <th>price</th>\n",
              "    </tr>\n",
              "  </thead>\n",
              "  <tbody>\n",
              "    <tr>\n",
              "      <th>14</th>\n",
              "      <td>2250</td>\n",
              "      <td>3</td>\n",
              "      <td>101.0</td>\n",
              "    </tr>\n",
              "    <tr>\n",
              "      <th>5</th>\n",
              "      <td>1170</td>\n",
              "      <td>2</td>\n",
              "      <td>38.0</td>\n",
              "    </tr>\n",
              "    <tr>\n",
              "      <th>19</th>\n",
              "      <td>800</td>\n",
              "      <td>1</td>\n",
              "      <td>32.0</td>\n",
              "    </tr>\n",
              "    <tr>\n",
              "      <th>8</th>\n",
              "      <td>1310</td>\n",
              "      <td>3</td>\n",
              "      <td>50.0</td>\n",
              "    </tr>\n",
              "    <tr>\n",
              "      <th>15</th>\n",
              "      <td>1175</td>\n",
              "      <td>2</td>\n",
              "      <td>42.0</td>\n",
              "    </tr>\n",
              "  </tbody>\n",
              "</table>\n",
              "</div>"
            ],
            "text/plain": [
              "    area  bedrooms  price\n",
              "14  2250         3  101.0\n",
              "5   1170         2   38.0\n",
              "19   800         1   32.0\n",
              "8   1310         3   50.0\n",
              "15  1175         2   42.0"
            ]
          },
          "execution_count": 10,
          "metadata": {},
          "output_type": "execute_result"
        }
      ],
      "source": [
        "df = pd.read_csv(\"../data/homeprices_banglore.csv\")\n",
        "df.sample(5)"
      ]
    },
    {
      "cell_type": "code",
      "execution_count": 11,
      "metadata": {},
      "outputs": [],
      "source": [
        "# Scaling : mettre toute les données du dataset à la même echelle pour que le modèle apprene mieux\n",
        "# Using sklearn\n",
        "sx = preprocessing.MinMaxScaler() # initialisation de l'echelle pour X\n",
        "sy = preprocessing.MinMaxScaler() # initialisation de l'echelle pour y"
      ]
    },
    {
      "cell_type": "code",
      "execution_count": 12,
      "metadata": {},
      "outputs": [
        {
          "data": {
            "text/plain": [
              "array([[0.08827586, 0.25      ],\n",
              "       [0.62068966, 0.75      ],\n",
              "       [0.22068966, 0.5       ],\n",
              "       [0.24862069, 0.5       ],\n",
              "       [0.13793103, 0.25      ],\n",
              "       [0.12758621, 0.25      ],\n",
              "       [0.6662069 , 0.75      ],\n",
              "       [0.86206897, 0.75      ],\n",
              "       [0.17586207, 0.5       ],\n",
              "       [1.        , 1.        ],\n",
              "       [0.34482759, 0.5       ],\n",
              "       [0.68448276, 0.75      ],\n",
              "       [0.06896552, 0.25      ],\n",
              "       [0.10344828, 0.25      ],\n",
              "       [0.5       , 0.5       ],\n",
              "       [0.12931034, 0.25      ],\n",
              "       [0.13103448, 0.5       ],\n",
              "       [0.25517241, 0.5       ],\n",
              "       [0.67931034, 0.5       ],\n",
              "       [0.        , 0.        ]])"
            ]
          },
          "execution_count": 12,
          "metadata": {},
          "output_type": "execute_result"
        }
      ],
      "source": [
        "# Inputs\n",
        "scaled_X = sx.fit_transform(df.drop('price', axis='columns'))\n",
        "scaled_X"
      ]
    },
    {
      "cell_type": "code",
      "execution_count": 13,
      "metadata": {},
      "outputs": [
        {
          "data": {
            "text/plain": [
              "array([[0.05237037],\n",
              "       [0.65185185],\n",
              "       [0.22222222],\n",
              "       [0.31851852],\n",
              "       [0.14074074],\n",
              "       [0.04444444],\n",
              "       [0.76296296],\n",
              "       [0.91111111],\n",
              "       [0.13333333],\n",
              "       [1.        ],\n",
              "       [0.37037037],\n",
              "       [0.8       ],\n",
              "       [0.04444444],\n",
              "       [0.05925926],\n",
              "       [0.51111111],\n",
              "       [0.07407407],\n",
              "       [0.11851852],\n",
              "       [0.20740741],\n",
              "       [0.51851852],\n",
              "       [0.        ]])"
            ]
          },
          "execution_count": 13,
          "metadata": {},
          "output_type": "execute_result"
        }
      ],
      "source": [
        "# Outputs\n",
        "scaled_y = sy.fit_transform(df['price'].values.reshape(df.shape[0], 1))\n",
        "scaled_y"
      ]
    },
    {
      "cell_type": "code",
      "execution_count": 14,
      "metadata": {},
      "outputs": [
        {
          "data": {
            "text/plain": [
              "array([[0.08827586, 0.62068966, 0.22068966, 0.24862069, 0.13793103,\n",
              "        0.12758621, 0.6662069 , 0.86206897, 0.17586207, 1.        ,\n",
              "        0.34482759, 0.68448276, 0.06896552, 0.10344828, 0.5       ,\n",
              "        0.12931034, 0.13103448, 0.25517241, 0.67931034, 0.        ],\n",
              "       [0.25      , 0.75      , 0.5       , 0.5       , 0.25      ,\n",
              "        0.25      , 0.75      , 0.75      , 0.5       , 1.        ,\n",
              "        0.5       , 0.75      , 0.25      , 0.25      , 0.5       ,\n",
              "        0.25      , 0.5       , 0.5       , 0.5       , 0.        ]])"
            ]
          },
          "execution_count": 14,
          "metadata": {},
          "output_type": "execute_result"
        }
      ],
      "source": [
        "scaled_X.T # les lignes deviennent des colonnes"
      ]
    },
    {
      "cell_type": "code",
      "execution_count": 16,
      "metadata": {},
      "outputs": [
        {
          "data": {
            "text/plain": [
              "(array([0.70712464, 0.67456527]), -0.23034857438407422, 0.0068641890429808105)"
            ]
          },
          "execution_count": 16,
          "metadata": {},
          "output_type": "execute_result"
        }
      ],
      "source": [
        "# Batch gradient descent\n",
        "def batch_gradient_descent(X, y_true, epochs, learning_rate = 0.01):\n",
        "    number_of_feature = X.shape[1] # area and bedrooms\n",
        "\n",
        "    w = np.ones(shape=(number_of_feature)) # [1.0, 1.0] => [w1, w2]\n",
        "    b = 0 # bias\n",
        "    total_samples = X.shape[0]\n",
        "\n",
        "    cost_list = []\n",
        "    epoch_list = []\n",
        "\n",
        "    for i in range(epochs):\n",
        "        y_predicted =  np.dot(w, scaled_X.T) + b # w1 * area + w2 * bedrooms + b\n",
        "\n",
        "        # Finding gradients\n",
        "        w_grad = -(2/total_samples) * (X.T.dot(y_true - y_predicted)) # partial derivatives of error with respect to weights (each)\n",
        "        b_grad = -(2/total_samples) * np.sum(y_true - y_predicted)\n",
        "\n",
        "        # Ajusting\n",
        "        w = w - learning_rate * w_grad\n",
        "        b = b - learning_rate * b_grad\n",
        "\n",
        "        cost = np.mean(np.square(y_true - y_predicted))\n",
        "\n",
        "        if i % 10 == 0: # record metrics every 10 iterations\n",
        "            cost_list.append(cost)\n",
        "            epoch_list.append(i)\n",
        "    \n",
        "    return w, b, cost, cost_list, epoch_list\n",
        "\n",
        "w, b, cost, cost_list, epoch_list = batch_gradient_descent(scaled_X, scaled_y.reshape(scaled_y.shape[0],), 500)\n",
        "w, b, cost"
      ]
    },
    {
      "cell_type": "code",
      "execution_count": 17,
      "metadata": {},
      "outputs": [
        {
          "data": {
            "text/plain": [
              "[<matplotlib.lines.Line2D at 0x26c6830d410>]"
            ]
          },
          "execution_count": 17,
          "metadata": {},
          "output_type": "execute_result"
        },
        {
          "data": {
            "image/png": "[encoded data removed]",
            "text/plain": [
              "<Figure size 640x480 with 1 Axes>"
            ]
          },
          "metadata": {},
          "output_type": "display_data"
        }
      ],
      "source": [
        "# Visualisation des perf ...\n",
        "plt.xlabel(\"epoch\")\n",
        "plt.ylabel(\"cost\")\n",
        "plt.plot(epoch_list, cost_list)"
      ]
    },
    {
      "cell_type": "code",
      "execution_count": 21,
      "metadata": {},
      "outputs": [
        {
          "name": "stderr",
          "output_type": "stream",
          "text": [
            "c:\\Users\\S085091\\Documents\\EnvPython\\Tensorflow_cours\\Lib\\site-packages\\sklearn\\base.py:493: UserWarning: X does not have valid feature names, but MinMaxScaler was fitted with feature names\n",
            "  warnings.warn(\n"
          ]
        },
        {
          "data": {
            "text/plain": [
              "128.45484403267596"
            ]
          },
          "execution_count": 21,
          "metadata": {},
          "output_type": "execute_result"
        }
      ],
      "source": [
        "def predict(area, bedrooms, w, b):\n",
        "    scaled_X = sx.transform([[area, bedrooms]])[0]\n",
        "\n",
        "    scaled_price = w[0] * scaled_X[0] + w[1] * scaled_X[1] + b\n",
        "\n",
        "    return sy.inverse_transform([[scaled_price]])[0][0]\n",
        "\n",
        "predict(2600, 4, w, b)"
      ]
    },
    {
      "cell_type": "code",
      "execution_count": 22,
      "metadata": {},
      "outputs": [
        {
          "name": "stderr",
          "output_type": "stream",
          "text": [
            "c:\\Users\\S085091\\Documents\\EnvPython\\Tensorflow_cours\\Lib\\site-packages\\sklearn\\base.py:493: UserWarning: X does not have valid feature names, but MinMaxScaler was fitted with feature names\n",
            "  warnings.warn(\n"
          ]
        },
        {
          "data": {
            "text/plain": [
              "30.253094462442363"
            ]
          },
          "execution_count": 22,
          "metadata": {},
          "output_type": "execute_result"
        }
      ],
      "source": [
        "predict(1000, 2, w, b)"
      ]
    },
    {
      "cell_type": "code",
      "execution_count": 23,
      "metadata": {},
      "outputs": [
        {
          "name": "stderr",
          "output_type": "stream",
          "text": [
            "c:\\Users\\S085091\\Documents\\EnvPython\\Tensorflow_cours\\Lib\\site-packages\\sklearn\\base.py:493: UserWarning: X does not have valid feature names, but MinMaxScaler was fitted with feature names\n",
            "  warnings.warn(\n"
          ]
        },
        {
          "data": {
            "text/plain": [
              "69.47860785714694"
            ]
          },
          "execution_count": 23,
          "metadata": {},
          "output_type": "execute_result"
        }
      ],
      "source": [
        "predict(1500, 3, w, b)"
      ]
    },
    {
      "cell_type": "code",
      "execution_count": 36,
      "metadata": {},
      "outputs": [
        {
          "data": {
            "text/plain": [
              "(array([0.70505786, 0.67329111]), -0.23047753723401618, 0.021997747135013773)"
            ]
          },
          "execution_count": 36,
          "metadata": {},
          "output_type": "execute_result"
        }
      ],
      "source": [
        "# Stochastic gradient descent\n",
        "def stochastic_gradient_descent(X, y_true, epochs, learning_rate = 0.01):\n",
        "    number_of_feature = X.shape[1] # area and bedrooms\n",
        "\n",
        "    w = np.ones(shape=(number_of_feature)) # [1.0, 1.0] => [w1, w2]\n",
        "    b = 0 # bias\n",
        "    total_samples = X.shape[0]\n",
        "\n",
        "    cost_list = []\n",
        "    epoch_list = []\n",
        "\n",
        "    for i in range(epochs):\n",
        "        random_index = random.randint(0, total_samples-1)\n",
        "        sample_x = X[random_index]\n",
        "        sample_y = y_true[random_index]\n",
        "        y_predicted = np.dot(w, sample_x.T) + b\n",
        "\n",
        "        # Finding gradients\n",
        "        w_grad = -(2/total_samples) * (sample_x.T.dot(sample_y - y_predicted)) # partial derivatives of error with respect to weights (each)\n",
        "        b_grad = -(2/total_samples) * np.sum(sample_y - y_predicted)\n",
        "\n",
        "        # Ajusting\n",
        "        w = w - learning_rate * w_grad\n",
        "        b = b - learning_rate * b_grad\n",
        "\n",
        "        cost = np.mean(np.square(sample_y - y_predicted))\n",
        "\n",
        "        if i % 100 == 0: # record metrics every 100 iterations\n",
        "            cost_list.append(cost)\n",
        "            epoch_list.append(i)\n",
        "    \n",
        "    return w, b, cost, cost_list, epoch_list\n",
        "\n",
        "w_sgd, b_sgd, cost_sgd, cost_list_sgd, epoch_list_sgd = stochastic_gradient_descent(scaled_X, scaled_y.reshape(scaled_y.shape[0],), 10_000)\n",
        "w_sgd, b_sgd, cost_sgd"
      ]
    },
    {
      "cell_type": "code",
      "execution_count": 32,
      "metadata": {},
      "outputs": [
        {
          "data": {
            "text/plain": [
              "(array([0.70712464, 0.67456527]), -0.23034857438407422, 0.0068641890429808105)"
            ]
          },
          "execution_count": 32,
          "metadata": {},
          "output_type": "execute_result"
        }
      ],
      "source": [
        "w, b, cost"
      ]
    },
    {
      "cell_type": "code",
      "execution_count": 37,
      "metadata": {},
      "outputs": [
        {
          "data": {
            "text/plain": [
              "[<matplotlib.lines.Line2D at 0x26c6ac8f290>]"
            ]
          },
          "execution_count": 37,
          "metadata": {},
          "output_type": "execute_result"
        },
        {
          "data": {
            "image/png": "[encoded data removed]",
            "text/plain": [
              "<Figure size 640x480 with 1 Axes>"
            ]
          },
          "metadata": {},
          "output_type": "display_data"
        }
      ],
      "source": [
        "# Visualisation des perf ...\n",
        "plt.xlabel(\"epoch\")\n",
        "plt.ylabel(\"cost\")\n",
        "plt.plot(epoch_list_sgd, cost_list_sgd)"
      ]
    },
    {
      "cell_type": "code",
      "execution_count": 38,
      "metadata": {},
      "outputs": [
        {
          "name": "stderr",
          "output_type": "stream",
          "text": [
            "c:\\Users\\S085091\\Documents\\EnvPython\\Tensorflow_cours\\Lib\\site-packages\\sklearn\\base.py:493: UserWarning: X does not have valid feature names, but MinMaxScaler was fitted with feature names\n",
            "  warnings.warn(\n"
          ]
        },
        {
          "data": {
            "text/plain": [
              "128.13524291513698"
            ]
          },
          "execution_count": 38,
          "metadata": {},
          "output_type": "execute_result"
        }
      ],
      "source": [
        "predict(2600, 4, w_sgd, b_sgd)"
      ]
    },
    {
      "cell_type": "markdown",
      "metadata": {},
      "source": [
        "#### Exercise\n",
        "\n",
        "---\n",
        "\n",
        "Implement mini batch gradient descent in python and plot cost vs epoch graph. Mini batch is intermediate version of batch GD and stochastic GD. In stochastic we used one randomly picked training sample, In mini gradient descent you will use a batch of samples in each iterations. For example if you have total 50 training samples, you can take a batch of 10 samples, calculate cumulitive error for those 10 samples and then adjust weights. In SGD we adjust weights after every one sample. In Batch we adjust weights after going through all samples but in mini batch we do after every m samples (where m is batch size and it is 0 < m < n, where n is total number of samples"
      ]
    },
    {
      "cell_type": "code",
      "execution_count": 65,
      "metadata": {},
      "outputs": [
        {
          "data": {
            "text/plain": [
              "(array([0.75572403, 0.41824282]), -0.11842236125784225, 0.0025506686362226456)"
            ]
          },
          "execution_count": 65,
          "metadata": {},
          "output_type": "execute_result"
        }
      ],
      "source": [
        "# Mini Batch gradient descent\n",
        "def stochastic_gradient_descent(X, y_true, epochs, learning_rate=0.01, nbr_samples=10):\n",
        "    number_of_feature = X.shape[1] # area and bedrooms\n",
        "\n",
        "    w = np.ones(shape=(number_of_feature)) # [1.0, 1.0] => [w1, w2]\n",
        "    b = 0 # bias\n",
        "    total_samples = X.shape[0]\n",
        "\n",
        "    cost_list = []\n",
        "    epoch_list = []\n",
        "\n",
        "    for i in range(epochs):\n",
        "        random_indexs = [random.randint(0, total_samples - 1) for i in range(10)]\n",
        "        samples_x = X[random_indexs]\n",
        "        samples_y = y_true[random_indexs]\n",
        "        y_predicted = np.dot(w, samples_x.T) + b\n",
        "\n",
        "        # Finding gradients\n",
        "        w_grad = -(2/total_samples) * (samples_x.T.dot(samples_y - y_predicted)) # partial derivatives of error with respect to weights (each)\n",
        "        b_grad = -(2/total_samples) * np.sum(samples_y - y_predicted)\n",
        "\n",
        "        # Ajusting\n",
        "        w = w - learning_rate * w_grad\n",
        "        b = b - learning_rate * b_grad\n",
        "\n",
        "        cost = np.mean(np.square(samples_y - y_predicted))\n",
        "\n",
        "        if i % 100 == 0: # record metrics every 100 iterations\n",
        "            cost_list.append(cost)\n",
        "            epoch_list.append(i)\n",
        "    \n",
        "    return w, b, cost, cost_list, epoch_list\n",
        "\n",
        "w_mbgd, b_mbgd, cost_mbgd, cost_list_mbgd, epoch_list_mbgd = stochastic_gradient_descent(scaled_X, scaled_y.reshape(scaled_y.shape[0],), 10_000, nbr_samples=5)\n",
        "w_mbgd, b_mbgd, cost_mbgd"
      ]
    },
    {
      "cell_type": "code",
      "execution_count": 66,
      "metadata": {},
      "outputs": [
        {
          "data": {
            "text/plain": [
              "(array([0.70712464, 0.67456527]), -0.23034857438407422, 0.0068641890429808105)"
            ]
          },
          "execution_count": 66,
          "metadata": {},
          "output_type": "execute_result"
        }
      ],
      "source": [
        "w, b, cost"
      ]
    },
    {
      "cell_type": "code",
      "execution_count": 67,
      "metadata": {},
      "outputs": [
        {
          "data": {
            "text/plain": [
              "(array([0.70505786, 0.67329111]), -0.23047753723401618, 0.021997747135013773)"
            ]
          },
          "execution_count": 67,
          "metadata": {},
          "output_type": "execute_result"
        }
      ],
      "source": [
        "w_sgd, b_sgd, cost_sgd"
      ]
    },
    {
      "cell_type": "code",
      "execution_count": 68,
      "metadata": {},
      "outputs": [
        {
          "data": {
            "text/plain": [
              "[<matplotlib.lines.Line2D at 0x26c6c021c10>]"
            ]
          },
          "execution_count": 68,
          "metadata": {},
          "output_type": "execute_result"
        },
        {
          "data": {
            "image/png": "[encoded data removed]",
            "text/plain": [
              "<Figure size 640x480 with 1 Axes>"
            ]
          },
          "metadata": {},
          "output_type": "display_data"
        }
      ],
      "source": [
        "# Visualisation des perf ...\n",
        "plt.xlabel(\"epoch\")\n",
        "plt.ylabel(\"cost\")\n",
        "plt.plot(epoch_list_mbgd, cost_list_mbgd)"
      ]
    }
  ],
  "metadata": {
    "colab": {
      "provenance": [],
      "toc_visible": true
    },
    "kernelspec": {
      "display_name": "Python 3",
      "name": "python3"
    },
    "language_info": {
      "codemirror_mode": {
        "name": "ipython",
        "version": 3
      },
      "file_extension": ".py",
      "mimetype": "text/x-python",
      "name": "python",
      "nbconvert_exporter": "python",
      "pygments_lexer": "ipython3",
      "version": "3.11.2"
    }
  },
  "nbformat": 4,
  "nbformat_minor": 0
}
