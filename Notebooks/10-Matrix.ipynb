{
 "cells": [
  {
   "cell_type": "markdown",
   "metadata": {},
   "source": [
    "[Vidéo 10](https://www.youtube.com/watch?v=Wibxjrxf5ko&list=PLeo1K3hjS3uu7CxAacxVndI4bE_o3BDtO&index=10)"
   ]
  },
  {
   "cell_type": "code",
   "execution_count": 1,
   "metadata": {
    "executionInfo": {
     "elapsed": 797,
     "status": "ok",
     "timestamp": 1732266237674,
     "user": {
      "displayName": "Yann Fournier",
      "userId": "06929613131842740253"
     },
     "user_tz": -60
    },
    "id": "HSmKuiGhFlyv"
   },
   "outputs": [],
   "source": [
    "import numpy as np"
   ]
  },
  {
   "cell_type": "code",
   "execution_count": 2,
   "metadata": {
    "executionInfo": {
     "elapsed": 407,
     "status": "ok",
     "timestamp": 1732266337272,
     "user": {
      "displayName": "Yann Fournier",
      "userId": "06929613131842740253"
     },
     "user_tz": -60
    },
    "id": "7V1sunHeHOeA"
   },
   "outputs": [],
   "source": [
    "revenue = np.array([\n",
    "    [180, 200, 220],\n",
    "    [24, 36, 40],\n",
    "    [12, 18, 20]\n",
    "])\n",
    "\n",
    "expenses = np.array([\n",
    "    [80, 90, 100],\n",
    "    [10, 16, 20],\n",
    "    [8, 10, 10]\n",
    "])"
   ]
  },
  {
   "cell_type": "code",
   "execution_count": 3,
   "metadata": {
    "colab": {
     "base_uri": "https://localhost:8080/"
    },
    "executionInfo": {
     "elapsed": 4,
     "status": "ok",
     "timestamp": 1732266374449,
     "user": {
      "displayName": "Yann Fournier",
      "userId": "06929613131842740253"
     },
     "user_tz": -60
    },
    "id": "TCLgirjDHqCO",
    "outputId": "9879920f-5f42-480a-f367-08e5b52c9bdb"
   },
   "outputs": [
    {
     "data": {
      "text/plain": [
       "array([[100, 110, 120],\n",
       "       [ 14,  20,  20],\n",
       "       [  4,   8,  10]])"
      ]
     },
     "execution_count": 3,
     "metadata": {},
     "output_type": "execute_result"
    }
   ],
   "source": [
    "profit = revenue - expenses\n",
    "profit"
   ]
  },
  {
   "cell_type": "code",
   "execution_count": 4,
   "metadata": {
    "executionInfo": {
     "elapsed": 336,
     "status": "ok",
     "timestamp": 1732266514768,
     "user": {
      "displayName": "Yann Fournier",
      "userId": "06929613131842740253"
     },
     "user_tz": -60
    },
    "id": "-ujkq0NVHzFE"
   },
   "outputs": [],
   "source": [
    "price_per_unit = np.array([1000, 400, 1200])\n",
    "units = np.array([\n",
    "    [30, 40, 50],\n",
    "    [5, 10, 15],\n",
    "    [2, 5, 7]\n",
    "])"
   ]
  },
  {
   "cell_type": "code",
   "execution_count": 7,
   "metadata": {
    "colab": {
     "base_uri": "https://localhost:8080/"
    },
    "executionInfo": {
     "elapsed": 348,
     "status": "ok",
     "timestamp": 1732266683589,
     "user": {
      "displayName": "Yann Fournier",
      "userId": "06929613131842740253"
     },
     "user_tz": -60
    },
    "id": "w7ZU37Y4IVZA",
    "outputId": "f88accfc-1522-424a-c620-3244a69e149a"
   },
   "outputs": [
    {
     "data": {
      "text/plain": [
       "array([[30000, 16000, 60000],\n",
       "       [ 5000,  4000, 18000],\n",
       "       [ 2000,  2000,  8400]])"
      ]
     },
     "execution_count": 7,
     "metadata": {},
     "output_type": "execute_result"
    }
   ],
   "source": [
    "price_per_unit * units # Ce n'est pas comme cela qu'on multiplie des matrices\n",
    "# Numpy broadcasting : si les deux matrices multiplier, n'ont pas la même forme,\n",
    "# numpy copie-colle des valeurs pour qu'elles soient de même taille"
   ]
  },
  {
   "cell_type": "code",
   "execution_count": 10,
   "metadata": {
    "colab": {
     "base_uri": "https://localhost:8080/"
    },
    "executionInfo": {
     "elapsed": 355,
     "status": "ok",
     "timestamp": 1732266746365,
     "user": {
      "displayName": "Yann Fournier",
      "userId": "06929613131842740253"
     },
     "user_tz": -60
    },
    "id": "lOWxEvQyIos-",
    "outputId": "0ce38cc6-fb51-4d80-d084-17b44e66286f"
   },
   "outputs": [
    {
     "data": {
      "text/plain": [
       "array([34400, 50000, 64400])"
      ]
     },
     "execution_count": 10,
     "metadata": {},
     "output_type": "execute_result"
    }
   ],
   "source": [
    "np.dot(price_per_unit, units) # multiplication de matrices\n",
    "# ATTENTION : l'ordre des matrice dans la fonction à de l'importance. La multiplication\n",
    "# de matrice n'est pas commutative"
   ]
  }
 ],
 "metadata": {
  "colab": {
   "authorship_tag": "ABX9TyObaV80dK998kKuGwj9sR75",
   "provenance": []
  },
  "kernelspec": {
   "display_name": "Tensorflow_cours",
   "language": "python",
   "name": "python3"
  },
  "language_info": {
   "codemirror_mode": {
    "name": "ipython",
    "version": 3
   },
   "file_extension": ".py",
   "mimetype": "text/x-python",
   "name": "python",
   "nbconvert_exporter": "python",
   "pygments_lexer": "ipython3",
   "version": "3.11.4"
  }
 },
 "nbformat": 4,
 "nbformat_minor": 0
}
