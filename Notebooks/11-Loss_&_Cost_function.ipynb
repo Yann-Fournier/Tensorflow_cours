{
 "cells": [
  {
   "cell_type": "markdown",
   "metadata": {},
   "source": [
    "[Vidéo 11](https://www.youtube.com/watch?v=E1yyaLRUnLo&list=PLeo1K3hjS3uu7CxAacxVndI4bE_o3BDtO&index=11)"
   ]
  },
  {
   "cell_type": "code",
   "execution_count": 1,
   "metadata": {
    "executionInfo": {
     "elapsed": 208,
     "status": "ok",
     "timestamp": 1732269264628,
     "user": {
      "displayName": "Yann Fournier",
      "userId": "06929613131842740253"
     },
     "user_tz": -60
    },
    "id": "a_XmpSCQKGK6"
   },
   "outputs": [],
   "source": [
    "import numpy as np\n",
    "\n",
    "y_predicted = np.array([1, 1, 0, 0, 1])\n",
    "y_true = np.array([0.30, 0.7, 1, 0, 0.5])"
   ]
  },
  {
   "cell_type": "markdown",
   "metadata": {
    "id": "Bk40dEohTfSO"
   },
   "source": [
    "## Mean Absolute Error function\n",
    "---"
   ]
  },
  {
   "cell_type": "code",
   "execution_count": 18,
   "metadata": {
    "executionInfo": {
     "elapsed": 4,
     "status": "ok",
     "timestamp": 1732269264867,
     "user": {
      "displayName": "Yann Fournier",
      "userId": "06929613131842740253"
     },
     "user_tz": -60
    },
    "id": "FJZTol7aRstz"
   },
   "outputs": [],
   "source": [
    "def mae(y_true, y_predicted):\n",
    "  total_error = 0\n",
    "  for yt, yp in zip(y_true, y_predicted):\n",
    "    total_error += abs(yt - yp)\n",
    "  print(\"Total error :\", total_error)\n",
    "\n",
    "  mae = total_error / len(y_true)\n",
    "  print(\"MAE :\", mae)\n",
    "  return mae"
   ]
  },
  {
   "cell_type": "code",
   "execution_count": 19,
   "metadata": {
    "colab": {
     "base_uri": "https://localhost:8080/"
    },
    "executionInfo": {
     "elapsed": 7,
     "status": "ok",
     "timestamp": 1732269265361,
     "user": {
      "displayName": "Yann Fournier",
      "userId": "06929613131842740253"
     },
     "user_tz": -60
    },
    "id": "RZ-g-z5MSB3u",
    "outputId": "f89e4640-63d3-4c09-e6e0-663fa54dfa9b"
   },
   "outputs": [
    {
     "name": "stdout",
     "output_type": "stream",
     "text": [
      "Total error : 2.5\n",
      "MAE : 0.5\n"
     ]
    },
    {
     "data": {
      "text/plain": [
       "0.5"
      ]
     },
     "execution_count": 19,
     "metadata": {},
     "output_type": "execute_result"
    }
   ],
   "source": [
    "mae(y_true, y_predicted)"
   ]
  },
  {
   "cell_type": "code",
   "execution_count": 20,
   "metadata": {
    "colab": {
     "base_uri": "https://localhost:8080/"
    },
    "executionInfo": {
     "elapsed": 308,
     "status": "ok",
     "timestamp": 1732269342553,
     "user": {
      "displayName": "Yann Fournier",
      "userId": "06929613131842740253"
     },
     "user_tz": -60
    },
    "id": "OJNR_TQpSHKX",
    "outputId": "02f68f6f-c772-4dd6-d4d2-5c885e87a532"
   },
   "outputs": [
    {
     "data": {
      "text/plain": [
       "0.5"
      ]
     },
     "execution_count": 20,
     "metadata": {},
     "output_type": "execute_result"
    }
   ],
   "source": [
    "# MAE only using numpy\n",
    "np.mean(np.abs(y_predicted - y_true))"
   ]
  },
  {
   "cell_type": "markdown",
   "metadata": {
    "id": "ZlROgMF4TbLt"
   },
   "source": [
    "## Log Loss function\n",
    "---"
   ]
  },
  {
   "cell_type": "code",
   "execution_count": 26,
   "metadata": {
    "colab": {
     "base_uri": "https://localhost:8080/"
    },
    "executionInfo": {
     "elapsed": 197,
     "status": "ok",
     "timestamp": 1732269670616,
     "user": {
      "displayName": "Yann Fournier",
      "userId": "06929613131842740253"
     },
     "user_tz": -60
    },
    "id": "nKeGPFcXUUuT",
    "outputId": "be1e0687-2082-41ad-a716-7b80e20cefe1"
   },
   "outputs": [
    {
     "name": "stderr",
     "output_type": "stream",
     "text": [
      "<ipython-input-26-faee82fd9f21>:1: RuntimeWarning: divide by zero encountered in log\n",
      "  np.log([0])\n"
     ]
    },
    {
     "data": {
      "text/plain": [
       "array([-inf])"
      ]
     },
     "execution_count": 26,
     "metadata": {},
     "output_type": "execute_result"
    }
   ],
   "source": [
    "np.log([0])"
   ]
  },
  {
   "cell_type": "code",
   "execution_count": 27,
   "metadata": {
    "colab": {
     "base_uri": "https://localhost:8080/"
    },
    "executionInfo": {
     "elapsed": 215,
     "status": "ok",
     "timestamp": 1732269681560,
     "user": {
      "displayName": "Yann Fournier",
      "userId": "06929613131842740253"
     },
     "user_tz": -60
    },
    "id": "DEeWsgf-UZKm",
    "outputId": "926053a8-297e-4c8e-975e-3adfdb326ff9"
   },
   "outputs": [
    {
     "data": {
      "text/plain": [
       "array([0.])"
      ]
     },
     "execution_count": 27,
     "metadata": {},
     "output_type": "execute_result"
    }
   ],
   "source": [
    "np.log([1])"
   ]
  },
  {
   "cell_type": "code",
   "execution_count": 24,
   "metadata": {
    "colab": {
     "base_uri": "https://localhost:8080/"
    },
    "executionInfo": {
     "elapsed": 286,
     "status": "ok",
     "timestamp": 1732269576166,
     "user": {
      "displayName": "Yann Fournier",
      "userId": "06929613131842740253"
     },
     "user_tz": -60
    },
    "id": "TadqHrAQTHst",
    "outputId": "2420f03c-e969-4e5e-b03f-ebf2f7a34502"
   },
   "outputs": [
    {
     "data": {
      "text/plain": [
       "array([-41.44653167])"
      ]
     },
     "execution_count": 24,
     "metadata": {},
     "output_type": "execute_result"
    }
   ],
   "source": [
    "np.log([0.000000000000000001])"
   ]
  },
  {
   "cell_type": "code",
   "execution_count": 25,
   "metadata": {
    "executionInfo": {
     "elapsed": 210,
     "status": "ok",
     "timestamp": 1732269624354,
     "user": {
      "displayName": "Yann Fournier",
      "userId": "06929613131842740253"
     },
     "user_tz": -60
    },
    "id": "yT3_VRIkT9s5"
   },
   "outputs": [],
   "source": [
    "epsilon = 1e-15 # nombre très proche de 0 parceque log(0) n'est pas possible"
   ]
  },
  {
   "cell_type": "code",
   "execution_count": 38,
   "metadata": {
    "colab": {
     "base_uri": "https://localhost:8080/"
    },
    "executionInfo": {
     "elapsed": 231,
     "status": "ok",
     "timestamp": 1732270112824,
     "user": {
      "displayName": "Yann Fournier",
      "userId": "06929613131842740253"
     },
     "user_tz": -60
    },
    "id": "eZnoTtw7UMoQ",
    "outputId": "c03bb48e-ac71-4c6f-bb28-63328bebb5ba"
   },
   "outputs": [
    {
     "data": {
      "text/plain": [
       "array([1.e+00, 1.e+00, 1.e-15, 1.e-15, 1.e+00])"
      ]
     },
     "execution_count": 38,
     "metadata": {},
     "output_type": "execute_result"
    }
   ],
   "source": [
    "y_predicted_new = [max(i, epsilon) for i in y_predicted] # replace 0\n",
    "y_predicted_new = [min(i, 1-epsilon) for i in y_predicted_new] # replace 1\n",
    "y_predicted_new = np.array(y_predicted_new)\n",
    "y_predicted_new"
   ]
  },
  {
   "cell_type": "code",
   "execution_count": 39,
   "metadata": {
    "colab": {
     "base_uri": "https://localhost:8080/"
    },
    "executionInfo": {
     "elapsed": 395,
     "status": "ok",
     "timestamp": 1732270114917,
     "user": {
      "displayName": "Yann Fournier",
      "userId": "06929613131842740253"
     },
     "user_tz": -60
    },
    "id": "lKiZL6obUoHp",
    "outputId": "2fd61c22-6898-406d-cbb0-0b6dc56cbf12"
   },
   "outputs": [
    {
     "data": {
      "text/plain": [
       "array([-9.99200722e-16, -9.99200722e-16, -3.45387764e+01, -3.45387764e+01,\n",
       "       -9.99200722e-16])"
      ]
     },
     "execution_count": 39,
     "metadata": {},
     "output_type": "execute_result"
    }
   ],
   "source": [
    "np.log(y_predicted_new)"
   ]
  },
  {
   "cell_type": "code",
   "execution_count": 40,
   "metadata": {
    "colab": {
     "base_uri": "https://localhost:8080/"
    },
    "executionInfo": {
     "elapsed": 10,
     "status": "ok",
     "timestamp": 1732270115323,
     "user": {
      "displayName": "Yann Fournier",
      "userId": "06929613131842740253"
     },
     "user_tz": -60
    },
    "id": "nRlLD0H4VCDA",
    "outputId": "b4ace802-bbed-423d-9016-d0dd66224915"
   },
   "outputs": [
    {
     "name": "stderr",
     "output_type": "stream",
     "text": [
      "<ipython-input-40-bdbdba006d24>:1: RuntimeWarning: divide by zero encountered in log\n",
      "  np.log(y_predicted) # pas utilisable ...\n"
     ]
    },
    {
     "data": {
      "text/plain": [
       "array([  0.,   0., -inf, -inf,   0.])"
      ]
     },
     "execution_count": 40,
     "metadata": {},
     "output_type": "execute_result"
    }
   ],
   "source": [
    "np.log(y_predicted) # pas utilisable ..."
   ]
  },
  {
   "cell_type": "code",
   "execution_count": 41,
   "metadata": {
    "colab": {
     "base_uri": "https://localhost:8080/"
    },
    "executionInfo": {
     "elapsed": 8,
     "status": "ok",
     "timestamp": 1732270115323,
     "user": {
      "displayName": "Yann Fournier",
      "userId": "06929613131842740253"
     },
     "user_tz": -60
    },
    "id": "onS7eFbTVFEg",
    "outputId": "c9b4b50b-0eca-4f16-a3df-e8d0eb300ff9"
   },
   "outputs": [
    {
     "data": {
      "text/plain": [
       "17.2696280766844"
      ]
     },
     "execution_count": 41,
     "metadata": {},
     "output_type": "execute_result"
    }
   ],
   "source": [
    "# Log Loss function :\n",
    "-np.mean(y_true * np.log(y_predicted_new) + (1 - y_true) * np.log(1 - y_predicted_new))"
   ]
  },
  {
   "cell_type": "code",
   "execution_count": 45,
   "metadata": {
    "executionInfo": {
     "elapsed": 204,
     "status": "ok",
     "timestamp": 1732270177743,
     "user": {
      "displayName": "Yann Fournier",
      "userId": "06929613131842740253"
     },
     "user_tz": -60
    },
    "id": "2R7QVfOHVPwA"
   },
   "outputs": [],
   "source": [
    "def log_loss(y_true, y_predicted):\n",
    "  epsilon = 1e-15\n",
    "  y_predicted_new = [max(i, epsilon) for i in y_predicted] # replace 0\n",
    "  y_predicted_new = [min(i, 1-epsilon) for i in y_predicted_new] # replace 1\n",
    "  y_predicted_new = np.array(y_predicted_new)\n",
    "  return -np.mean(y_true * np.log(y_predicted_new) + (1 - y_true) * np.log(1 - y_predicted_new))"
   ]
  },
  {
   "cell_type": "code",
   "execution_count": 46,
   "metadata": {
    "colab": {
     "base_uri": "https://localhost:8080/"
    },
    "executionInfo": {
     "elapsed": 4,
     "status": "ok",
     "timestamp": 1732270178050,
     "user": {
      "displayName": "Yann Fournier",
      "userId": "06929613131842740253"
     },
     "user_tz": -60
    },
    "id": "7pXm0YwWWJ7I",
    "outputId": "eac853e7-c17e-4cda-ab30-df1e26ed14aa"
   },
   "outputs": [
    {
     "data": {
      "text/plain": [
       "17.2696280766844"
      ]
     },
     "execution_count": 46,
     "metadata": {},
     "output_type": "execute_result"
    }
   ],
   "source": [
    "log_loss(y_true=y_true, y_predicted=y_predicted)"
   ]
  },
  {
   "cell_type": "markdown",
   "metadata": {
    "id": "w-WA80sUWbcH"
   },
   "source": [
    "## Mean Square Error function\n",
    "---"
   ]
  },
  {
   "cell_type": "code",
   "execution_count": 47,
   "metadata": {
    "executionInfo": {
     "elapsed": 208,
     "status": "ok",
     "timestamp": 1732270317234,
     "user": {
      "displayName": "Yann Fournier",
      "userId": "06929613131842740253"
     },
     "user_tz": -60
    },
    "id": "EQfiXL-kWPFX"
   },
   "outputs": [],
   "source": [
    "def mse(y_true, y_predicted):\n",
    "  total_error = 0\n",
    "  for yt, yp in zip(y_true, y_predicted):\n",
    "    total_error += abs(yt - yp) ** 2\n",
    "  print(\"Total squared error :\", total_error)\n",
    "\n",
    "  mse = total_error / len(y_true)\n",
    "  print(\"MSE :\", mse)\n",
    "  return mse"
   ]
  },
  {
   "cell_type": "code",
   "execution_count": 48,
   "metadata": {
    "colab": {
     "base_uri": "https://localhost:8080/"
    },
    "executionInfo": {
     "elapsed": 4,
     "status": "ok",
     "timestamp": 1732270317892,
     "user": {
      "displayName": "Yann Fournier",
      "userId": "06929613131842740253"
     },
     "user_tz": -60
    },
    "id": "ihoyZvgdWyLa",
    "outputId": "657cf8f3-72a8-4128-d836-133e9168e4e7"
   },
   "outputs": [
    {
     "name": "stdout",
     "output_type": "stream",
     "text": [
      "Total squared error : 1.83\n",
      "MSE : 0.366\n"
     ]
    },
    {
     "data": {
      "text/plain": [
       "0.366"
      ]
     },
     "execution_count": 48,
     "metadata": {},
     "output_type": "execute_result"
    }
   ],
   "source": [
    "mse(y_true, y_predicted)"
   ]
  },
  {
   "cell_type": "code",
   "execution_count": 50,
   "metadata": {
    "colab": {
     "base_uri": "https://localhost:8080/"
    },
    "executionInfo": {
     "elapsed": 219,
     "status": "ok",
     "timestamp": 1732270433624,
     "user": {
      "displayName": "Yann Fournier",
      "userId": "06929613131842740253"
     },
     "user_tz": -60
    },
    "id": "Wl0EeB_lW1_d",
    "outputId": "048807d1-8a3f-4fdd-bbba-4520eb15a033"
   },
   "outputs": [
    {
     "data": {
      "text/plain": [
       "0.366"
      ]
     },
     "execution_count": 50,
     "metadata": {},
     "output_type": "execute_result"
    }
   ],
   "source": [
    "# np.mean(np.abs(y_predicted - y_true) ** 2)\n",
    "np.mean(np.square(y_predicted - y_true))"
   ]
  },
  {
   "cell_type": "code",
   "execution_count": null,
   "metadata": {
    "id": "CLMYwaUjW66d"
   },
   "outputs": [],
   "source": []
  }
 ],
 "metadata": {
  "colab": {
   "authorship_tag": "ABX9TyMMvsVIu0GinCLJQEQh98nz",
   "provenance": []
  },
  "kernelspec": {
   "display_name": "Tensorflow_cours",
   "language": "python",
   "name": "python3"
  },
  "language_info": {
   "codemirror_mode": {
    "name": "ipython",
    "version": 3
   },
   "file_extension": ".py",
   "mimetype": "text/x-python",
   "name": "python",
   "nbconvert_exporter": "python",
   "pygments_lexer": "ipython3",
   "version": "3.11.4"
  }
 },
 "nbformat": 4,
 "nbformat_minor": 0
}
